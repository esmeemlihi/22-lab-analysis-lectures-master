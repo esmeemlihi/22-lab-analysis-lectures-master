{
 "cells": [
  {
   "cell_type": "code",
   "execution_count": null,
   "metadata": {},
   "outputs": [],
   "source": [
    "'''\n",
    "\n",
    "Lecture 3 - Lies, Damned Lies and Statistics (about TEDTalks)\n",
    "[Lies, Damned Lies and Statistics (about TEDTalks)]\n",
    "(https://www.ted.com/talks/lies_damned_lies_and_statistics_about_tedtalks#t-316284)\n",
    "\n",
    "The third lecture is a presentation about the insights gotten from a TED Talks data analysis.\n",
    "\n",
    "After watching the video...\n",
    "\n",
    "'''"
   ]
  },
  {
   "cell_type": "code",
   "execution_count": null,
   "metadata": {},
   "outputs": [],
   "source": [
    "# What do you think about the visualisations that the speaker used to present his insights? \n",
    "\n",
    "Brief, simple and super clear \n",
    "\n",
    "\n",
    "# Which one is your favorite?\n",
    "\n",
    "There first most clear abstract one. With the main toppic inn the middle and 3 connected toppics \n",
    "around represented on 3 different coloured circles \n",
    "\n",
    "\n",
    "\n"
   ]
  },
  {
   "cell_type": "code",
   "execution_count": null,
   "metadata": {},
   "outputs": [],
   "source": [
    "# What's your opinion about the speech? \n",
    "\n",
    "well the lecturer says that you can predect every litle detail what to do best in the future all based on statistics.\n",
    "But is seems to be more a sarcatic joke towarsd this attitude. \n",
    "\n",
    "Especialy when i went into so mutch detail of what to say, what colour to choose in your clothes. \n",
    "This is clearly not possible to annalyse so independed (seperate). \n",
    "\n",
    "\n",
    "#Did he get his point across?\n",
    "\n",
    "I do not think so. The audience took it all like sweet kookies. They were not critic at all. \n",
    "\n",
    "\n"
   ]
  },
  {
   "cell_type": "code",
   "execution_count": null,
   "metadata": {},
   "outputs": [],
   "source": [
    "# Was the presentation about a trascendental topic? \n",
    "\n",
    "\"\"\"\n",
    "https://en.wikipedia.org/wiki/Transcendental_idealism\n",
    "\n",
    "Kant's doctrine is commonly presented as the notion that \n",
    "time, space, and causality are not independently existing entities, \n",
    "but constitute the necessary mental preconditions of experiencing the world.\"\"\"\n",
    "\n",
    "To be honest I do not realy get the meaning of trascendental\n",
    "\n",
    "# Did it keep you glued to the screen?\n",
    "\n",
    "Yes it facinated me, how mutch nonsense you can sell as long as you present it well with the right tone of voice\n",
    "confinence and wrapping. \n",
    "\n"
   ]
  },
  {
   "cell_type": "code",
   "execution_count": null,
   "metadata": {},
   "outputs": [],
   "source": [
    "# Is there anything you think the speaker missed, something he could improve or do yo have some to-do ideas for him?\n",
    "\n",
    "Mabey to give some examples in the news of well rapped nonsens, that has been adapted by the big audince.\n",
    "And then proove that it is nonsense, and how difficult it is to communicate that, by doing it.\n",
    "\n",
    "Because easy wrapped messages with good news are nice to communicate, but complex well build argumentations\n",
    "that do not give the news / vieuw we want are les stickky to our brains and les welcome.\n"
   ]
  }
 ],
 "metadata": {
  "kernelspec": {
   "display_name": "Python 3",
   "language": "python",
   "name": "python3"
  },
  "language_info": {
   "codemirror_mode": {
    "name": "ipython",
    "version": 3
   },
   "file_extension": ".py",
   "mimetype": "text/x-python",
   "name": "python",
   "nbconvert_exporter": "python",
   "pygments_lexer": "ipython3",
   "version": "3.7.4"
  }
 },
 "nbformat": 4,
 "nbformat_minor": 2
}
